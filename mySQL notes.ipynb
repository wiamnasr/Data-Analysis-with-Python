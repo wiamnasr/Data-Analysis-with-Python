{
 "cells": [
  {
   "cell_type": "code",
   "execution_count": 1,
   "id": "8101be48",
   "metadata": {},
   "outputs": [],
   "source": [
    "import mysql.connector"
   ]
  },
  {
   "cell_type": "code",
   "execution_count": 2,
   "id": "662c8a3f",
   "metadata": {},
   "outputs": [],
   "source": [
    "db = mysql.connector.connect(\n",
    "host=\"localhost\", user=\"root\", passwd=\"CYFStudent@123\")"
   ]
  },
  {
   "cell_type": "code",
   "execution_count": 3,
   "id": "48a4cc32",
   "metadata": {},
   "outputs": [],
   "source": [
    "mycursor = db.cursor()"
   ]
  },
  {
   "cell_type": "code",
   "execution_count": 22,
   "id": "e1c82ade",
   "metadata": {},
   "outputs": [],
   "source": [
    "#mycursor.execute(\"CREATE DATABASE testdatabase\")"
   ]
  },
  {
   "cell_type": "code",
   "execution_count": 4,
   "id": "38b2e273",
   "metadata": {},
   "outputs": [],
   "source": [
    "mycursor.execute(\"USE girrafe\")"
   ]
  },
  {
   "cell_type": "code",
   "execution_count": 5,
   "id": "12901a15",
   "metadata": {},
   "outputs": [],
   "source": [
    "mycursor.execute(\"SELECT * FROM employee\")"
   ]
  },
  {
   "cell_type": "code",
   "execution_count": 6,
   "id": "e849fe8b",
   "metadata": {},
   "outputs": [
    {
     "name": "stdout",
     "output_type": "stream",
     "text": [
      "(100, 'David', 'Wallace', datetime.date(1967, 11, 17), 'M', 250000, None, 1)\n",
      "(101, 'Jan', 'Levinson', datetime.date(1961, 5, 11), 'F', 110000, 100, 1)\n",
      "(103, 'Angela', 'Martin', datetime.date(1971, 6, 25), 'F', 63000, None, None)\n",
      "(104, 'Kelly', 'Kapoor', datetime.date(1980, 2, 5), 'F', 55000, None, None)\n",
      "(105, 'Stanley', 'Hudson', datetime.date(1958, 2, 19), 'M', 69000, None, None)\n",
      "(106, 'Josh', 'Porter', datetime.date(1969, 9, 5), 'M', 78000, 100, 3)\n",
      "(107, 'Andy', 'Bernard', datetime.date(1973, 7, 22), 'M', 65000, 106, 3)\n",
      "(108, 'Jim', 'Halpert', datetime.date(1978, 10, 1), 'M', 71000, 106, 3)\n",
      "(109, 'test', 'test', datetime.date(1999, 3, 3), 'F', 300000, None, 3)\n",
      "(110, 'test2', 'test2', datetime.date(1990, 2, 2), 'F', 670000, None, 3)\n",
      "(111, 'trigger working!', 'test3', datetime.date(1980, 2, 2), 'M', 60000, None, 3)\n",
      "(112, 'another trigger for male/female', 'test4', datetime.date(2000, 2, 2), 'F', 90000, None, 3)\n"
     ]
    }
   ],
   "source": [
    "for x in mycursor:\n",
    "    print(x)"
   ]
  },
  {
   "cell_type": "code",
   "execution_count": 7,
   "id": "d64b4074",
   "metadata": {},
   "outputs": [],
   "source": [
    "mycursor.execute(\"DESCRIBE employee\")"
   ]
  },
  {
   "cell_type": "code",
   "execution_count": 8,
   "id": "9e03ed0f",
   "metadata": {},
   "outputs": [
    {
     "name": "stdout",
     "output_type": "stream",
     "text": [
      "('emp_id', b'int', 'NO', 'PRI', None, '')\n",
      "('first_name', b'varchar(40)', 'YES', '', None, '')\n",
      "('last_name', b'varchar(40)', 'YES', '', None, '')\n",
      "('birth_day', b'date', 'YES', '', None, '')\n",
      "('sex', b'varchar(1)', 'YES', '', None, '')\n",
      "('salary', b'int', 'YES', '', None, '')\n",
      "('super_id', b'int', 'YES', 'MUL', None, '')\n",
      "('branch_id', b'int', 'YES', 'MUL', None, '')\n"
     ]
    }
   ],
   "source": [
    "for x in mycursor:\n",
    "    print(x)"
   ]
  },
  {
   "cell_type": "code",
   "execution_count": 11,
   "id": "b2efe031",
   "metadata": {},
   "outputs": [],
   "source": [
    "#mycursor.execute(\"CREATE TABLE Person (name VARCHAR(20), age smallint UNSIGNED, personID int PRIMARY KEY AUTO_INCREMENT)\")"
   ]
  },
  {
   "cell_type": "code",
   "execution_count": 13,
   "id": "e20a9ba9",
   "metadata": {},
   "outputs": [],
   "source": [
    "mycursor.execute(\"DESCRIBE Person\")"
   ]
  },
  {
   "cell_type": "code",
   "execution_count": 14,
   "id": "aec958e2",
   "metadata": {},
   "outputs": [
    {
     "name": "stdout",
     "output_type": "stream",
     "text": [
      "('name', b'varchar(20)', 'YES', '', None, '')\n",
      "('age', b'smallint unsigned', 'YES', '', None, '')\n",
      "('personID', b'int', 'NO', 'PRI', None, 'auto_increment')\n"
     ]
    }
   ],
   "source": [
    "for x in mycursor:\n",
    "    print(x)"
   ]
  },
  {
   "cell_type": "code",
   "execution_count": 19,
   "id": "149ac885",
   "metadata": {},
   "outputs": [],
   "source": [
    "mycursor.execute(\"INSERT INTO Person (name, age) VALUES (%s,%s)\", (\"Joe\", 22))"
   ]
  },
  {
   "cell_type": "code",
   "execution_count": 20,
   "id": "75b40b3f",
   "metadata": {},
   "outputs": [],
   "source": [
    "db.commit() #database.commitchanges"
   ]
  },
  {
   "cell_type": "code",
   "execution_count": 21,
   "id": "f9ecac22",
   "metadata": {},
   "outputs": [],
   "source": [
    "mycursor.execute(\"SELECT * FROM Person\")"
   ]
  },
  {
   "cell_type": "code",
   "execution_count": 22,
   "id": "0477045f",
   "metadata": {},
   "outputs": [
    {
     "name": "stdout",
     "output_type": "stream",
     "text": [
      "('tim', 19, 1)\n",
      "('Joe', 22, 2)\n"
     ]
    }
   ],
   "source": [
    "for x in mycursor:\n",
    "    print(x)"
   ]
  },
  {
   "cell_type": "code",
   "execution_count": null,
   "id": "fbf13fc5",
   "metadata": {},
   "outputs": [],
   "source": []
  }
 ],
 "metadata": {
  "celltoolbar": "Raw Cell Format",
  "kernelspec": {
   "display_name": "Python 3",
   "language": "python",
   "name": "python3"
  },
  "language_info": {
   "codemirror_mode": {
    "name": "ipython",
    "version": 3
   },
   "file_extension": ".py",
   "mimetype": "text/x-python",
   "name": "python",
   "nbconvert_exporter": "python",
   "pygments_lexer": "ipython3",
   "version": "3.8.8"
  }
 },
 "nbformat": 4,
 "nbformat_minor": 5
}
